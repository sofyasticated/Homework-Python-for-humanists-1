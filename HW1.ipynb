{
 "cells": [
  {
   "cell_type": "code",
   "execution_count": 1,
   "metadata": {},
   "outputs": [
    {
     "name": "stdout",
     "output_type": "stream",
     "text": [
      "   _~_       _~_    \n",
      "  (o o)     (o o)   \n",
      " /  V  \\   /  V  \\  \n",
      "/(  _  )\\ /(  _  )\\ \n",
      "  ^^ ^^     ^^ ^^   \n"
     ]
    }
   ],
   "source": [
    "a = '   _~_    '\n",
    "b = '  (o o)   '\n",
    "c = ' /  V  \\  '\n",
    "d = '/(  _  )\\ '\n",
    "e = '  ^^ ^^   '\n",
    "n = 2\n",
    "print (a*n)\n",
    "print (b*n)\n",
    "print (c*n)\n",
    "print (d*n)\n",
    "print (e*n)"
   ]
  },
  {
   "cell_type": "code",
   "execution_count": 4,
   "metadata": {},
   "outputs": [
    {
     "name": "stdout",
     "output_type": "stream",
     "text": [
      "16\n",
      "3\n"
     ]
    }
   ],
   "source": [
    "a = 'Kolya eats pizza'\n",
    "print (len (a))\n",
    "print (len (a.split()))"
   ]
  },
  {
   "cell_type": "code",
   "execution_count": 30,
   "metadata": {},
   "outputs": [
    {
     "name": "stdout",
     "output_type": "stream",
     "text": [
      "x\n",
      "o\n",
      "Max R\n",
      "Max Ryabov @mryab loves y\n",
      "MxRao myblvsyu\n",
      "a ybv@ra oe o\n",
      "uoy sevol bayrm@ vobayR xaM\n",
      "uysvlbym oaRxM\n",
      "27\n"
     ]
    }
   ],
   "source": [
    "a = 'Max Ryabov @mryab loves you'\n",
    "print (a[2])\n",
    "print (a[-2])\n",
    "print (a[:5])\n",
    "print (a[:-2])\n",
    "print (a[::2])\n",
    "print (a[1::2])\n",
    "print (a[::-1])\n",
    "print (a[::-2])\n",
    "print (len(a))"
   ]
  },
  {
   "cell_type": "code",
   "execution_count": 26,
   "metadata": {},
   "outputs": [
    {
     "name": "stdout",
     "output_type": "stream",
     "text": [
      "yes\n",
      "no\n"
     ]
    }
   ],
   "source": [
    "a = 'acca mryab'\n",
    "if a[:4] == a[:4][::-1]:\n",
    "    print ('yes')\n",
    "if a[-5:] != a[-5:][::-1]:\n",
    "    print ('no')"
   ]
  },
  {
   "cell_type": "code",
   "execution_count": 21,
   "metadata": {},
   "outputs": [
    {
     "name": "stdout",
     "output_type": "stream",
     "text": [
      "введите слово: все\n",
      "слово встречается 3 раз(-а)\n"
     ]
    }
   ],
   "source": [
    "a = '''законы физики рядом с черной дырой уже не работают в том представлении в котором мы привыкли \n",
    "пространство время искривляется и все события протекают уже совсем по другому \n",
    "словно пылесос черная дыра поглощает все что находится около нее планеты астероиды свет и прочее \n",
    "ранее считалось что черная дыра ничего не излучает но как доказал стивен хокинг черная дыра излучает антивещество \n",
    "то есть поедает вещество и выделяет антивещество \n",
    "ранее думали что если кинуть в черную дыру человека то ему труба порвет на субатомы \n",
    "но как оказалось по некоторым уравнениям есть определенные траектории путешествия сквозь черную дыру чтоб чувствовать себя нормально \n",
    "правда не ясно что будет за ней другой мир или ничего \n",
    "область вокруг черной дыры которая интересна называется горизонтом событий \n",
    "если туда полететь не зная волшебное уравнение то будет конечно не очень \n",
    "наблюдатель будет видеть как космический корабль влетает в горизонт событий и крайне медленно потом отдаляется пока не застынет в центре\n",
    "у самого же космонавта дела будут идти совсем по другому \n",
    "искривленное пространство будет лепить из него как из пластилина различные формы пока наконец не разорвет все на субатомы \n",
    "но для внешнего наблюдателя космонавт навсегда останется улыбающимся и махающим в иллюминатор застывшим изображением'''\n",
    "b = a.split()\n",
    "word = input(\"введите слово: \")\n",
    "if word in b:\n",
    "    print(\"слово встречается\", b.count (word), \"раз(-а)\")\n",
    "else:\n",
    "    b.apend (word) \n",
    "    print(\"слово добавлено\")"
   ]
  }
 ],
 "metadata": {
  "kernelspec": {
   "display_name": "Python 3",
   "language": "python",
   "name": "python3"
  },
  "language_info": {
   "codemirror_mode": {
    "name": "ipython",
    "version": 3
   },
   "file_extension": ".py",
   "mimetype": "text/x-python",
   "name": "python",
   "nbconvert_exporter": "python",
   "pygments_lexer": "ipython3",
   "version": "3.6.5"
  }
 },
 "nbformat": 4,
 "nbformat_minor": 2
}
